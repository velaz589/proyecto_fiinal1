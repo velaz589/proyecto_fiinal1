{
 "cells": [
  {
   "cell_type": "markdown",
   "id": "f09d7c2a",
   "metadata": {},
   "source": [
    "# 01_Fuentes\n",
    "\n",
    "Adquisición de datos y unión de las diferentes fuentes."
   ]
  },
  {
   "cell_type": "markdown",
   "id": "3f857b5e",
   "metadata": {},
   "source": [
    "En este cuaderno empezaremos a trabajar en las fuentes, es decir traernos al notebook los datos. en este caso tenemos un fichero llamado \n",
    "quejas-clientes para trabajar con el."
   ]
  },
  {
   "cell_type": "code",
   "execution_count": 2,
   "id": "bd818412",
   "metadata": {},
   "outputs": [],
   "source": [
    "import pandas as pd\n",
    "import chardet"
   ]
  },
  {
   "cell_type": "code",
   "execution_count": null,
   "id": "5dfa1a19",
   "metadata": {},
   "outputs": [],
   "source": []
  },
  {
   "cell_type": "code",
   "execution_count": 3,
   "id": "0e2ca093",
   "metadata": {},
   "outputs": [
    {
     "data": {
      "text/plain": [
       "{'encoding': 'utf-8', 'confidence': 0.99, 'language': ''}"
      ]
     },
     "execution_count": 3,
     "metadata": {},
     "output_type": "execute_result"
    }
   ],
   "source": [
    "# con esto miramos si el encoding del archivo es correcto.\n",
    "chardet.detect(open(\"../data/quejas-clientes.csv\", \"rb\").read())\n"
   ]
  },
  {
   "cell_type": "code",
   "execution_count": 4,
   "id": "fbfd5d66",
   "metadata": {},
   "outputs": [],
   "source": [
    "main_df = pd.read_csv(\"../data/quejas-clientes.csv\", encoding=\"utf-8\")"
   ]
  },
  {
   "cell_type": "code",
   "execution_count": null,
   "id": "12d35205",
   "metadata": {},
   "outputs": [],
   "source": []
  }
 ],
 "metadata": {
  "kernelspec": {
   "display_name": "nuevo_proyecto",
   "language": "python",
   "name": "python3"
  },
  "language_info": {
   "codemirror_mode": {
    "name": "ipython",
    "version": 3
   },
   "file_extension": ".py",
   "mimetype": "text/x-python",
   "name": "python",
   "nbconvert_exporter": "python",
   "pygments_lexer": "ipython3",
   "version": "3.12.11"
  }
 },
 "nbformat": 4,
 "nbformat_minor": 5
}
