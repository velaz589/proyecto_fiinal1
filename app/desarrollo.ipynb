{
 "cells": [
  {
   "cell_type": "markdown",
   "id": "18811ebd",
   "metadata": {},
   "source": [
    "Este punto es para realizar el desarrollo de la aplicacion en Streamlit, es decir para la impementacion de la misma en la nube para que se pueda probar como funciona. \n",
    "debido a  a que el objetivo primario es saber si las empresas que han contratado a esta compañia de gestion van a a tener algun tipo de problema con el cliente o, si por el contrario, el problema acabara con la contestacion de la compañia.  \n"
   ]
  },
  {
   "cell_type": "markdown",
   "id": "08581f4e",
   "metadata": {},
   "source": [
    "para realizar el prototipado podemos usar 2 herramientas; streamlit y gradio. "
   ]
  },
  {
   "cell_type": "code",
   "execution_count": 4,
   "id": "c472a48f",
   "metadata": {},
   "outputs": [],
   "source": [
    "import sys\n",
    "sys.path.append('../notebooks')\n",
    "\n",
    "import fuentes as ft "
   ]
  },
  {
   "cell_type": "code",
   "execution_count": 6,
   "id": "1d0551dc",
   "metadata": {},
   "outputs": [],
   "source": [
    "clf=ft.evaluation.recuperacion('RF3(0.94 acu)')"
   ]
  },
  {
   "cell_type": "code",
   "execution_count": null,
   "id": "66624ed7",
   "metadata": {},
   "outputs": [],
   "source": [
    "# una vez que va tenemos el modelo necesitremos para que nos prediga introducir las posibles variables.\n",
    "clf.predit()"
   ]
  },
  {
   "cell_type": "code",
   "execution_count": 1,
   "id": "60ac7016",
   "metadata": {},
   "outputs": [
    {
     "name": "stderr",
     "output_type": "stream",
     "text": [
      "c:\\Users\\nevaz\\Desktop\\analisis_de_datos\\proyecto_fiinal1\\.venv\\Lib\\site-packages\\tqdm\\auto.py:21: TqdmWarning: IProgress not found. Please update jupyter and ipywidgets. See https://ipywidgets.readthedocs.io/en/stable/user_install.html\n",
      "  from .autonotebook import tqdm as notebook_tqdm\n"
     ]
    },
    {
     "name": "stdout",
     "output_type": "stream",
     "text": [
      "* Running on local URL:  http://127.0.0.1:7860\n",
      "* To create a public link, set `share=True` in `launch()`.\n"
     ]
    },
    {
     "data": {
      "text/html": [
       "<div><iframe src=\"http://127.0.0.1:7860/\" width=\"100%\" height=\"500\" allow=\"autoplay; camera; microphone; clipboard-read; clipboard-write;\" frameborder=\"0\" allowfullscreen></iframe></div>"
      ],
      "text/plain": [
       "<IPython.core.display.HTML object>"
      ]
     },
     "metadata": {},
     "output_type": "display_data"
    },
    {
     "data": {
      "text/plain": []
     },
     "execution_count": 1,
     "metadata": {},
     "output_type": "execute_result"
    }
   ],
   "source": [
    "import gradio as gr\n",
    "\n",
    "def greet(name, intensity):\n",
    "    return \"Hello, \" + name + \"!\" * int(intensity)\n",
    "\n",
    "demo = gr.Interface(\n",
    "    fn=greet,\n",
    "    inputs=[\"text\", \"slider\"],\n",
    "    outputs=[\"text\"],\n",
    ")\n",
    "\n",
    "demo.launch()"
   ]
  },
  {
   "cell_type": "code",
   "execution_count": 2,
   "id": "bc1f84c6",
   "metadata": {},
   "outputs": [
    {
     "name": "stdout",
     "output_type": "stream",
     "text": [
      "Closing server running on port: 7860\n"
     ]
    }
   ],
   "source": [
    "demo.close()"
   ]
  }
 ],
 "metadata": {
  "kernelspec": {
   "display_name": "proyecto-final",
   "language": "python",
   "name": "python3"
  },
  "language_info": {
   "codemirror_mode": {
    "name": "ipython",
    "version": 3
   },
   "file_extension": ".py",
   "mimetype": "text/x-python",
   "name": "python",
   "nbconvert_exporter": "python",
   "pygments_lexer": "ipython3",
   "version": "3.12.11"
  }
 },
 "nbformat": 4,
 "nbformat_minor": 5
}
