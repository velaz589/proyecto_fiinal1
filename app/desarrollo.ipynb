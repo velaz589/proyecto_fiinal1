{
 "cells": [
  {
   "cell_type": "markdown",
   "id": "18811ebd",
   "metadata": {},
   "source": [
    "Este punto es para realizar el desarrollo de la aplicacion en Streamlit, es decir para la impementacion de la misma en la nube para que se pueda probar como funciona. \n",
    "debido a  a que el objetivo primario es saber si las empresas que han contratado a esta compañia de gestion van a a tener algun tipo de problema con el cliente o, si por el contrario, el problema acabara con la contestacion de la compañia.  \n"
   ]
  }
 ],
 "metadata": {
  "language_info": {
   "name": "python"
  }
 },
 "nbformat": 4,
 "nbformat_minor": 5
}
